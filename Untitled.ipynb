{
 "cells": [
  {
   "cell_type": "code",
   "execution_count": 2,
   "id": "075ee71d-543b-44dc-b8a2-6156e8f045d6",
   "metadata": {},
   "outputs": [
    {
     "name": "stdout",
     "output_type": "stream",
     "text": [
      "Collecting python-pptx\n",
      "  Downloading python_pptx-1.0.2-py3-none-any.whl.metadata (2.5 kB)\n",
      "Requirement already satisfied: Pillow>=3.3.2 in /Users/ryoyakatafuchi/Desktop/workspace/venv/lib/python3.12/site-packages (from python-pptx) (10.3.0)\n",
      "Collecting XlsxWriter>=0.5.7 (from python-pptx)\n",
      "  Downloading XlsxWriter-3.2.3-py3-none-any.whl.metadata (2.7 kB)\n",
      "Requirement already satisfied: lxml>=3.1.0 in /Users/ryoyakatafuchi/Desktop/workspace/venv/lib/python3.12/site-packages (from python-pptx) (5.4.0)\n",
      "Requirement already satisfied: typing-extensions>=4.9.0 in /Users/ryoyakatafuchi/Desktop/workspace/venv/lib/python3.12/site-packages (from python-pptx) (4.12.2)\n",
      "Downloading python_pptx-1.0.2-py3-none-any.whl (472 kB)\n",
      "Downloading XlsxWriter-3.2.3-py3-none-any.whl (169 kB)\n",
      "Installing collected packages: XlsxWriter, python-pptx\n",
      "Successfully installed XlsxWriter-3.2.3 python-pptx-1.0.2\n",
      "\n",
      "\u001b[1m[\u001b[0m\u001b[34;49mnotice\u001b[0m\u001b[1;39;49m]\u001b[0m\u001b[39;49m A new release of pip is available: \u001b[0m\u001b[31;49m24.2\u001b[0m\u001b[39;49m -> \u001b[0m\u001b[32;49m25.1.1\u001b[0m\n",
      "\u001b[1m[\u001b[0m\u001b[34;49mnotice\u001b[0m\u001b[1;39;49m]\u001b[0m\u001b[39;49m To update, run: \u001b[0m\u001b[32;49mpip install --upgrade pip\u001b[0m\n"
     ]
    }
   ],
   "source": [
    "!pip install python-pptx"
   ]
  },
  {
   "cell_type": "code",
   "execution_count": 3,
   "id": "0b4e2d77-f53e-41f1-ad3f-15103f7c5c0c",
   "metadata": {},
   "outputs": [],
   "source": [
    "from pptx import Presentation\n",
    "\n",
    "# pptxファイルを読み込む\n",
    "prs = Presentation('templates.pptx')"
   ]
  },
  {
   "cell_type": "code",
   "execution_count": 27,
   "id": "618f721e-31ee-4ced-b5d7-73fed04c1baf",
   "metadata": {},
   "outputs": [],
   "source": [
    "slide = prs.slides[2]"
   ]
  },
  {
   "cell_type": "code",
   "execution_count": 34,
   "id": "c060be2a-2c75-473c-b5b6-aa5666bba60a",
   "metadata": {},
   "outputs": [],
   "source": [
    "shape = slide.shapes[1]"
   ]
  },
  {
   "cell_type": "code",
   "execution_count": 36,
   "id": "f56b0840-9887-4fc4-9bb7-04b77be363bd",
   "metadata": {},
   "outputs": [
    {
     "data": {
      "text/plain": [
       "'リード文'"
      ]
     },
     "execution_count": 36,
     "metadata": {},
     "output_type": "execute_result"
    }
   ],
   "source": [
    "shape.text"
   ]
  },
  {
   "cell_type": "code",
   "execution_count": null,
   "id": "e2fd3dc3-d70f-45cb-bce9-6f241df9b3d0",
   "metadata": {},
   "outputs": [],
   "source": [
    "for shape in slide.shapes:\n",
    "    # shapeがテキストを持っているか確認\n",
    "    if hasattr(shape, \"text\"):\n",
    "        print(shape.text)"
   ]
  },
  {
   "cell_type": "code",
   "execution_count": null,
   "id": "98fecf12-aa18-4baf-a314-fe8eadf56497",
   "metadata": {},
   "outputs": [],
   "source": [
    "# 各スライドをループ\n",
    "for i, slide in enumerate(prs.slides):\n",
    "    print(f\"--- Slide {i+1} ---\")\n",
    "    # 各シェイプ（テキストボックスやタイトルなど）をループ\n",
    "    "
   ]
  }
 ],
 "metadata": {
  "kernelspec": {
   "display_name": "Python 3 (ipykernel)",
   "language": "python",
   "name": "python3"
  },
  "language_info": {
   "codemirror_mode": {
    "name": "ipython",
    "version": 3
   },
   "file_extension": ".py",
   "mimetype": "text/x-python",
   "name": "python",
   "nbconvert_exporter": "python",
   "pygments_lexer": "ipython3",
   "version": "3.12.4"
  }
 },
 "nbformat": 4,
 "nbformat_minor": 5
}
